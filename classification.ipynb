{
  "nbformat": 4,
  "nbformat_minor": 0,
  "metadata": {
    "colab": {
      "provenance": [],
      "authorship_tag": "ABX9TyNoDFJqHx9t+266/v61cVyd",
      "include_colab_link": true
    },
    "kernelspec": {
      "name": "python3",
      "display_name": "Python 3"
    },
    "language_info": {
      "name": "python"
    }
  },
  "cells": [
    {
      "cell_type": "markdown",
      "metadata": {
        "id": "view-in-github",
        "colab_type": "text"
      },
      "source": [
        "<a href=\"https://colab.research.google.com/github/Prajwalsk45/Machine-Learning/blob/main/classification.ipynb\" target=\"_parent\"><img src=\"https://colab.research.google.com/assets/colab-badge.svg\" alt=\"Open In Colab\"/></a>"
      ]
    },
    {
      "cell_type": "code",
      "execution_count": null,
      "metadata": {
        "id": "o96Y4O_nYV9m"
      },
      "outputs": [],
      "source": [
        "import numpy as np"
      ]
    },
    {
      "cell_type": "code",
      "source": [
        "x=np.array([[0,0],[0,1],[1,0],[1,1]])\n",
        "y=np.array([0,1,1,1])"
      ],
      "metadata": {
        "id": "Y6Jv0t1eZ2PB"
      },
      "execution_count": null,
      "outputs": []
    },
    {
      "cell_type": "code",
      "source": [
        "\n",
        "y"
      ],
      "metadata": {
        "colab": {
          "base_uri": "https://localhost:8080/"
        },
        "id": "GS_mHZL4aKSO",
        "outputId": "b49d195f-83ea-4fc5-c95a-1da357b91026"
      },
      "execution_count": null,
      "outputs": [
        {
          "output_type": "execute_result",
          "data": {
            "text/plain": [
              "array([0, 1, 1, 1])"
            ]
          },
          "metadata": {},
          "execution_count": 4
        }
      ]
    },
    {
      "cell_type": "code",
      "source": [
        "x"
      ],
      "metadata": {
        "colab": {
          "base_uri": "https://localhost:8080/"
        },
        "id": "GxBmsIiKaOXB",
        "outputId": "a3bf79bb-1dc0-4f01-8a97-a653b1c01747"
      },
      "execution_count": null,
      "outputs": [
        {
          "output_type": "execute_result",
          "data": {
            "text/plain": [
              "array([[0, 0],\n",
              "       [0, 1],\n",
              "       [1, 0],\n",
              "       [1, 1]])"
            ]
          },
          "metadata": {},
          "execution_count": 5
        }
      ]
    },
    {
      "cell_type": "code",
      "source": [
        "weight=np.array([1,1]) #precomputed weights\n",
        "weight"
      ],
      "metadata": {
        "colab": {
          "base_uri": "https://localhost:8080/"
        },
        "id": "RcVb0L7gaQe9",
        "outputId": "2801b07f-f9d3-4976-cf3c-b9c54bbb651f"
      },
      "execution_count": null,
      "outputs": [
        {
          "output_type": "execute_result",
          "data": {
            "text/plain": [
              "array([1, 1])"
            ]
          },
          "metadata": {},
          "execution_count": 6
        }
      ]
    },
    {
      "cell_type": "code",
      "source": [
        "bais=-0.5"
      ],
      "metadata": {
        "id": "9EneZkGYaasF"
      },
      "execution_count": null,
      "outputs": []
    },
    {
      "cell_type": "code",
      "source": [
        "def activation(z):\n",
        "  if z>0:\n",
        "    return 1\n",
        "  else:\n",
        "    return 0\n",
        "\n",
        "\n",
        "pred=[]\n",
        "for a in x:\n",
        "  y_hat=np.dot(a,weight)+b\n",
        "  pred.append(activation(y_hat))\n"
      ],
      "metadata": {
        "id": "aOhGV1Poae8Z"
      },
      "execution_count": null,
      "outputs": []
    },
    {
      "cell_type": "code",
      "source": [
        "pred"
      ],
      "metadata": {
        "colab": {
          "base_uri": "https://localhost:8080/"
        },
        "id": "ihV3SC78a7l6",
        "outputId": "96b54db8-a454-482f-87ae-a5193920a3ce"
      },
      "execution_count": null,
      "outputs": [
        {
          "output_type": "execute_result",
          "data": {
            "text/plain": [
              "[0, 1, 1, 1]"
            ]
          },
          "metadata": {},
          "execution_count": 13
        }
      ]
    },
    {
      "cell_type": "markdown",
      "source": [
        "In above example we assigned default weight(preconfiguredd values)"
      ],
      "metadata": {
        "id": "itTDeZgabUCJ"
      }
    },
    {
      "cell_type": "markdown",
      "source": [
        "Now we change weight value for each epoch"
      ],
      "metadata": {
        "id": "gw_yJENsbnIr"
      }
    },
    {
      "cell_type": "code",
      "source": [
        "import math\n"
      ],
      "metadata": {
        "id": "xAHROxbhbfKi"
      },
      "execution_count": null,
      "outputs": []
    },
    {
      "cell_type": "code",
      "source": [
        "epochs=100\n",
        "alpha=0.2"
      ],
      "metadata": {
        "id": "zrOXN6yTb920"
      },
      "execution_count": null,
      "outputs": []
    },
    {
      "cell_type": "code",
      "source": [
        "weight0=np.random.random()  #random weight values\n",
        "weight1=np.random.random()\n",
        "weight2=np.random.random()\n",
        "print(weight0)\n",
        "print(weight1)\n",
        "print(weight2)\n"
      ],
      "metadata": {
        "colab": {
          "base_uri": "https://localhost:8080/"
        },
        "id": "MuGNVdaAcFbY",
        "outputId": "fd1ca876-ad39-4e04-c9ec-e44b67d50acf"
      },
      "execution_count": null,
      "outputs": [
        {
          "output_type": "stream",
          "name": "stdout",
          "text": [
            "0.4293104819252699\n",
            "0.0960200731062385\n",
            "0.5432712527313953\n"
          ]
        }
      ]
    },
    {
      "cell_type": "code",
      "source": [
        "#partial derivative\n",
        "del_weight0=1\n",
        "del_weight1=1\n",
        "del_weight2=1\n"
      ],
      "metadata": {
        "id": "ayf0_hWIcymx"
      },
      "execution_count": null,
      "outputs": []
    },
    {
      "cell_type": "code",
      "source": [
        "#three input(or gate)\n",
        "train_data=np.array([[0,0,0],[0,0,1],[0,1,0],[0,1,1],[1,0,0],[1,0,1],[1,1,0],[1,1,1]])\n",
        "op=np.array([0,1,1,1,1,1,1,1])"
      ],
      "metadata": {
        "id": "3ebRIACTc8M-"
      },
      "execution_count": null,
      "outputs": []
    },
    {
      "cell_type": "code",
      "source": [
        "bias=0\n",
        "for i in range(epochs):\n",
        "  for x in tarin_data:\n",
        "    y_hat=weight0*x[0]+weight1*x[1]+weight2*x[2]+bias\n",
        "\n",
        "    if(r)\n"
      ],
      "metadata": {
        "id": "mPzdT9GXdljN"
      },
      "execution_count": null,
      "outputs": []
    }
  ]
}